{
 "cells": [
  {
   "cell_type": "markdown",
   "metadata": {},
   "source": [
    "## Euclidean Distance\n",
    "\n",
    "The goal of this notebook is to efficiently calculate the euclidean distance between two matrices, $X$ and $Z$. $X$ is of dimension $n \\times d$, and $Z$ is of the dimension $m \\times d$, where $n$ and $m$ are the number of observations in matrices $X$ and $Z$ respectively, and $d$ is the number of dimensions (variables).\n",
    "\n",
    "Specifically, We want to the calculate the euclidean distance between each row (observation) in $X$ and each row in $Z$. We can define $X$ and $Z$ as vectors of observations:\n",
    "\n",
    "$$X = \\begin{bmatrix}\n",
    "    \\vec X_1 \\\\ \n",
    "    \\vec X_2 \\\\\n",
    "    \\vdots \\\\\n",
    "    \\vec X_n \\\\\n",
    "    \\end{bmatrix}$$\n",
    "\n",
    "$$Z = \\begin{bmatrix}\n",
    "    \\vec Z_1 \\\\ \n",
    "    \\vec Z_2 \\\\\n",
    "    \\vdots \\\\\n",
    "    \\vec Z_m \\\\\n",
    "    \\end{bmatrix}$$\n",
    "\n",
    "If we store these distances in a matrix, this matrix, we will call it $D$, will be of dimension $n \\times m$, where each cell is defined as:\n",
    "\n",
    "\\begin{align}\n",
    "    D_{i,j} &= \\sqrt{\\left(\\vec x_i - \\vec z_j)(\\vec x_i - \\vec z_j\\right)^T} \\\\\n",
    "            &= \\sqrt{\\vec x_i \\vec x_i^T - 2\\vec z_j \\vec x_i^T + \\vec z_j \\vec z_j^T}\n",
    "\\end{align}\n",
    "\n",
    "Notice that for the terms $\\vec x_i \\vec x_i^T$ and $\\vec z_j \\vec z_j^T$, we only need the diagonal elements (as $i=i$ and $j=j$ always). Two functions are thus needed:\n",
    "\n",
    "1. innerproduct($X$, $Z$): Computes $XZ^T$\n",
    "2. l2distance($X$, $Z$): Computes the distance between each row of $X$ and each row of $Z$\n",
    "\n",
    "As efficiency is our goal, it is optimal to use numpy to computer these procedures."
   ]
  },
  {
   "cell_type": "code",
   "execution_count": 5,
   "metadata": {},
   "outputs": [],
   "source": [
    "import numpy as np\n",
    "import doctest"
   ]
  },
  {
   "cell_type": "code",
   "execution_count": 13,
   "metadata": {},
   "outputs": [
    {
     "name": "stdout",
     "output_type": "stream",
     "text": [
      "Trying:\n",
      "    M=np.array([[1,2,3],[4,5,6],[7,8,9]])\n",
      "Expecting nothing\n",
      "ok\n",
      "Trying:\n",
      "    Q=np.array([[11,12,13],[14,15,16]])\n",
      "Expecting nothing\n",
      "ok\n",
      "Trying:\n",
      "    print(np.linalg.norm(innerproduct(M,M)-innerproduct(M))<1e-16) # test1: Inner product with itself\n",
      "Expecting:\n",
      "    True\n",
      "ok\n",
      "Trying:\n",
      "    print(np.all(innerproduct(M,Q).T==np.array([[74,182,290],[92,227,362]])))\n",
      "Expecting:\n",
      "    True\n",
      "ok\n",
      "1 items had no tests:\n",
      "    __main__\n",
      "1 items passed all tests:\n",
      "   4 tests in __main__.innerproduct\n",
      "4 tests in 2 items.\n",
      "4 passed and 0 failed.\n",
      "Test passed.\n"
     ]
    },
    {
     "data": {
      "text/plain": [
       "TestResults(failed=0, attempted=4)"
      ]
     },
     "execution_count": 13,
     "metadata": {},
     "output_type": "execute_result"
    }
   ],
   "source": [
    "def innerproduct(X, Z=None):\n",
    "    \"\"\"\n",
    "    Computes the inner-product matrix.\n",
    "\n",
    "    Input:\n",
    "    X: nxd data matrix with n vectors (rows) of dimensionality d\n",
    "    Z: mxd data matrix with m vectors (rows) of dimensionality d\n",
    "\n",
    "    Output:\n",
    "    Matrix G of size nxm\n",
    "    G[i,j] is the inner-product between vectors X[i,:] and Z[j,:]\n",
    "\n",
    "    call with only one input:\n",
    "    innerproduct(X)=innerproduct(X,X)\n",
    "    \n",
    "    Tests:\n",
    "    >>> M=np.array([[1,2,3],[4,5,6],[7,8,9]])\n",
    "    >>> Q=np.array([[11,12,13],[14,15,16]])\n",
    "    >>> print(np.linalg.norm(innerproduct(M,M)-innerproduct(M))<1e-16) # test1: Inner product with itself\n",
    "    True\n",
    "    >>> print(np.all(innerproduct(M,Q).T==np.array([[74,182,290],[92,227,362]])))\n",
    "    True\n",
    "    \"\"\"\n",
    "    if Z is None: \n",
    "        Z = X\n",
    "        \n",
    "    return np.matmul(X, Z.T)\n",
    "    \n",
    "doctest.testmod(verbose=True)"
   ]
  },
  {
   "cell_type": "code",
   "execution_count": 14,
   "metadata": {},
   "outputs": [],
   "source": [
    "def l2distance(X,Z=None):\n",
    "    \"\"\"  \n",
    "    Computes the Euclidean distance matrix.\n",
    "    \n",
    "    Input:\n",
    "    X: nxd data matrix with n vectors (rows) of dimensionality d\n",
    "    Z: mxd data matrix with m vectors (rows) of dimensionality d\n",
    "    \n",
    "    Output:\n",
    "    Matrix D of size nxm\n",
    "    D(i,j) is the Euclidean distance of X(i,:) and Z(j,:)\n",
    "    \n",
    "    call with only one input:\n",
    "    l2distance(X)=l2distance(X,X)\n",
    "    \"\"\"\n",
    "    if Z is None: \n",
    "        Z = X\n",
    "        \n",
    "    S = np.array([np.diag(innerproduct(X, X)),]*Z.shape[0]).transpose()\n",
    "    R = np.array([np.diag(innerproduct(Z, Z)),] * X.shape[0])\n",
    "    return np.sqrt(S - 2*innerproduct(X,Z) + R)\n"
   ]
  },
  {
   "cell_type": "code",
   "execution_count": 16,
   "metadata": {},
   "outputs": [],
   "source": [
    "X=np.random.rand(700,100)\n",
    "Z=np.random.rand(300,100)"
   ]
  },
  {
   "cell_type": "code",
   "execution_count": 21,
   "metadata": {},
   "outputs": [
    {
     "data": {
      "text/plain": [
       "array([[4.42826475, 4.21548575, 4.16148532, ..., 4.03663278, 4.33339001,\n",
       "        4.23374441],\n",
       "       [4.10910451, 4.17378505, 4.15659942, ..., 4.33714958, 3.81616179,\n",
       "        4.30839221],\n",
       "       [4.44607787, 4.12946296, 4.09322611, ..., 4.49783377, 4.24084104,\n",
       "        3.96526995],\n",
       "       ...,\n",
       "       [4.06389629, 4.08931655, 3.89471417, ..., 3.8046135 , 3.95213277,\n",
       "        4.03448405],\n",
       "       [4.44527514, 3.98819792, 4.03307576, ..., 4.50259817, 4.25414512,\n",
       "        4.46923579],\n",
       "       [3.89479418, 3.67030945, 3.95866817, ..., 3.60650908, 4.06430667,\n",
       "        4.15464958]])"
      ]
     },
     "execution_count": 21,
     "metadata": {},
     "output_type": "execute_result"
    }
   ],
   "source": [
    "D = l2distance(X, Z)\n",
    "D"
   ]
  },
  {
   "cell_type": "code",
   "execution_count": 22,
   "metadata": {},
   "outputs": [
    {
     "name": "stdout",
     "output_type": "stream",
     "text": [
      "Matrix D is expected to be of dimension (700, 300). From the code before, we see the actual dimensions of matrix D are (700, 300)\n"
     ]
    }
   ],
   "source": [
    "print(f'Matrix D is expected to be of dimension (700, 300). From the code before, we see the actual dimensions of matrix D are {D.shape}')"
   ]
  }
 ],
 "metadata": {
  "kernelspec": {
   "display_name": "Python 3",
   "language": "python",
   "name": "python3"
  },
  "language_info": {
   "codemirror_mode": {
    "name": "ipython",
    "version": 3
   },
   "file_extension": ".py",
   "mimetype": "text/x-python",
   "name": "python",
   "nbconvert_exporter": "python",
   "pygments_lexer": "ipython3",
   "version": "3.6.6"
  }
 },
 "nbformat": 4,
 "nbformat_minor": 2
}
