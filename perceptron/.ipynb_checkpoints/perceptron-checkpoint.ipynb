{
 "cells": [
  {
   "cell_type": "markdown",
   "metadata": {},
   "source": [
    "# The Perceptron\n",
    "\n",
    "The perceptron is a linear classifier. The basic purpose of the algorithn is to find a hyperplane (assumming it exists) that seperates the data based on classification."
   ]
  },
  {
   "cell_type": "markdown",
   "metadata": {},
   "source": [
    "Load in the data"
   ]
  },
  {
   "cell_type": "code",
   "execution_count": 1,
   "metadata": {},
   "outputs": [],
   "source": [
    "import numpy as np\n",
    "from numpy.matlib import repmat\n",
    "import sys\n",
    "import matplotlib \n",
    "matplotlib.use('PDF')\n",
    "import matplotlib.pyplot as plt\n",
    "from scipy.io import loadmat\n",
    "import time\n",
    "\n",
    "# add p02 folder\n",
    "sys.path.insert(0, './p02/')\n",
    "\n",
    "%matplotlib inline"
   ]
  },
  {
   "cell_type": "code",
   "execution_count": 2,
   "metadata": {},
   "outputs": [],
   "source": [
    "def loaddata(filename):\n",
    "    \"\"\"\n",
    "    Returns xTr,yTr,xTe,yTe\n",
    "    xTr, xTe are in the form nxd\n",
    "    yTr, yTe are in the form nx1\n",
    "    \"\"\"\n",
    "    data = loadmat(filename)\n",
    "    xTr = data[\"xTr\"]; # load in Training data\n",
    "    yTr = np.round(data[\"yTr\"]); # load in Training labels\n",
    "    xTe = data[\"xTe\"]; # load in Testing data\n",
    "    yTe = np.round(data[\"yTe\"]); # load in Testing labels\n",
    "    return xTr.T,yTr.T,xTe.T,yTe.T"
   ]
  },
  {
   "cell_type": "code",
   "execution_count": 3,
   "metadata": {},
   "outputs": [],
   "source": [
    "def row_vectorize(x):\n",
    "    return x.reshape(1,-1)"
   ]
  },
  {
   "cell_type": "markdown",
   "metadata": {},
   "source": [
    "Update the vector $w$ given by the function: $$w \\leftarrow w + y*x$$"
   ]
  },
  {
   "cell_type": "code",
   "execution_count": 6,
   "metadata": {},
   "outputs": [],
   "source": [
    "def perceptronUpdate(x,y,w):\n",
    "    \"\"\"\n",
    "    function w=perceptronUpdate(x,y,w);\n",
    "    \n",
    "    Implementation of Perceptron weights updating\n",
    "    Input:\n",
    "        x : input vector of d dimensions (1xd)\n",
    "        y : corresponding label (-1 or +1)\n",
    "        w : weight vector before updating\n",
    "    \n",
    "    Output:\n",
    "        w : weight vector after updating\n",
    "    \"\"\"\n",
    "    # just in case x, w are accidentally transposed (prevents future bugs)\n",
    "    x,w = map(row_vectorize, [x,w])\n",
    "    assert(y in {-1,1})\n",
    "    \n",
    "    # update w vector by adding in misclassified x\n",
    "    w = w + y*x\n",
    "    return w"
   ]
  },
  {
   "cell_type": "markdown",
   "metadata": {},
   "source": [
    "Define the perceptron given the following algorithm:\n",
    "1. Start with $\\vec w = 0$\n",
    "2. Iterate through the observations (randomly sorted)\n",
    "    a. If $y_i \\cdot w \\cdot x_i^T \\le 0$:\n",
    "        Update $w$ given $w \\leftarrow w + y*x$\n",
    "        \n",
    "If no changes are made to $w$ (meaning all points are correctly classified), or the number of iterations is over a certain threshold, then stop the algorithm.\n",
    "        \n",
    "       "
   ]
  },
  {
   "cell_type": "code",
   "execution_count": 8,
   "metadata": {},
   "outputs": [],
   "source": [
    "def perceptron(x,y):\n",
    "    \"\"\"\n",
    "    function w=perceptron(x,y);\n",
    "    \n",
    "    Implementation of a Perceptron classifier\n",
    "    Input:\n",
    "        x : n input vectors of d dimensions (nxd)\n",
    "        y : n labels (-1 or +1)\n",
    "    \n",
    "    Output:\n",
    "        w : weight vector (1xd)\n",
    "    \"\"\"\n",
    "    \n",
    "    n, d = x.shape\n",
    "    w = np.zeros((1,d))\n",
    "    \n",
    "    # Iterate over each x\n",
    "    niter = 0\n",
    "    while True:\n",
    "        m = 0\n",
    "        niter += 1\n",
    "        #iterate through randomly sorted indexes\n",
    "        indexes = np.random.permutation(range(n))\n",
    "        for i in indexes:\n",
    "            # check if obs on correct side of hyperplane\n",
    "            if y[i]*w.dot(x[i].T) <= 0:\n",
    "                w = perceptronUpdate(x[i],y[i],w)\n",
    "                m += 1\n",
    "        if m == 0 or niter >= 100:\n",
    "            break\n",
    "    return w"
   ]
  },
  {
   "cell_type": "markdown",
   "metadata": {},
   "source": [
    "Given a trained vector $\\vec w$, output predictions given test observations."
   ]
  },
  {
   "cell_type": "code",
   "execution_count": 19,
   "metadata": {},
   "outputs": [],
   "source": [
    "def classifyLinear(x,w,b=0):\n",
    "    \"\"\"\n",
    "    function preds=classifyLinear(x,w,b)\n",
    "    \n",
    "    Make predictions with a linear classifier\n",
    "    Input:\n",
    "        x : n input vectors of d dimensions (dxn)\n",
    "        w : weight vector (dx1)\n",
    "        b : bias (scalar)\n",
    "    \n",
    "    Output:\n",
    "        preds: predictions (1xn)\n",
    "    \"\"\"\n",
    "    w = w.reshape(-1)\n",
    "    ## fill in code here\n",
    "    preds = np.zeros((x.shape[0], 1))\n",
    "    for i in range(preds):\n",
    "        if np.matmul(w, x[i]) + b > 0:\n",
    "            preds[j] = 1\n",
    "        else:\n",
    "            preds[j] = -1\n",
    "    return preds.reshape(1, x.shape[0])"
   ]
  },
  {
   "cell_type": "markdown",
   "metadata": {},
   "source": [
    "Graph an example"
   ]
  },
  {
   "cell_type": "code",
   "execution_count": 26,
   "metadata": {},
   "outputs": [
    {
     "data": {
      "image/png": "[encoded data removed]",
      "text/plain": [
       "<Figure size 432x288 with 1 Axes>"
      ]
     },
     "metadata": {
      "needs_background": "light"
     },
     "output_type": "display_data"
    }
   ],
   "source": [
    "# number of input vectors\n",
    "N = 100\n",
    "# Define the symbols and colors we'll use in the plots later\n",
    "symbols = ['ko', 'kx']\n",
    "mycolors = [[0.5, 0.5, 1], [1, 0.5, 0.5]]\n",
    "classvals = [-1, 1]\n",
    "\n",
    "# generate random (linarly separable) data\n",
    "trainPoints = np.random.randn(N, 2) * 1.5\n",
    "\n",
    "# defining random hyperplane\n",
    "w = np.random.rand(2)\n",
    "\n",
    "# assigning labels +1, -1 labels depending on what side of the plane they lie on\n",
    "trainLabels = np.sign(np.dot(trainPoints, w))\n",
    "i = np.random.permutation([i for i in range(N)])\n",
    "\n",
    "# shuffling training points in random order\n",
    "trainPoints = trainPoints[i, :]\n",
    "trainLabels = trainLabels[i]\n",
    "\n",
    "# call perceptron to find w from data\n",
    "w = perceptron(trainPoints,trainLabels)\n",
    "b = 0\n",
    "\n",
    "res=300\n",
    "xrange = np.linspace(-5, 5,res)\n",
    "yrange = np.linspace(-5, 5,res)\n",
    "pixelX = repmat(xrange, res, 1)\n",
    "pixelY = repmat(yrange, res, 1).T\n",
    "\n",
    "testPoints = np.array([pixelX.flatten(), pixelY.flatten(), np.ones(pixelX.flatten().shape)]).T\n",
    "testLabels = np.dot(testPoints, np.concatenate([w.flatten(), [b]]))\n",
    "\n",
    "Z = testLabels.reshape(res,res)\n",
    "plt.contourf(pixelX, pixelY, np.sign(Z), colors=mycolors)\n",
    "plt.scatter(trainPoints[trainLabels == classvals[0],0],\n",
    "            trainPoints[trainLabels == classvals[0],1],\n",
    "            marker='o',\n",
    "            color='k'\n",
    "           )\n",
    "plt.scatter(trainPoints[trainLabels == classvals[1],0],\n",
    "            trainPoints[trainLabels == classvals[1],1],\n",
    "            marker='x',\n",
    "            color='k'\n",
    "           )\n",
    "plt.quiver(0,0,w[0,0],w[0,1],linewidth=0.5, color=[0,1,0])\n",
    "plt.axis('tight')\n",
    "plt.title('Perceptron')\n",
    "plt.savefig('perceptron.png', facecolor='#BCBCBCFF')\n",
    "plt.show()"
   ]
  }
 ],
 "metadata": {
  "kernelspec": {
   "display_name": "Python 3",
   "language": "python",
   "name": "python3"
  },
  "language_info": {
   "codemirror_mode": {
    "name": "ipython",
    "version": 3
   },
   "file_extension": ".py",
   "mimetype": "text/x-python",
   "name": "python",
   "nbconvert_exporter": "python",
   "pygments_lexer": "ipython3",
   "version": "3.6.6"
  }
 },
 "nbformat": 4,
 "nbformat_minor": 2
}
